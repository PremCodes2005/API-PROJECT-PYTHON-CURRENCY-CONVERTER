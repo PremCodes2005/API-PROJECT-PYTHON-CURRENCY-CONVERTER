{
 "cells": [
  {
   "cell_type": "code",
   "execution_count": 7,
   "id": "b2e1a50f",
   "metadata": {},
   "outputs": [],
   "source": []
  },
  {
   "cell_type": "code",
   "execution_count": 3,
   "id": "203852ab",
   "metadata": {},
   "outputs": [
    {
     "name": "stdout",
     "output_type": "stream",
     "text": [
      "CONVERSION OF 1 UNIT OF CURRENCY\n",
      "Convert from (currency): USD\n",
      "Convert to (currency) INR\n",
      "{'USD_INR': 79.630387}\n"
     ]
    }
   ],
   "source": [
    "import requests\n",
    "print(\"CONVERSION OF 1 UNIT OF CURRENCY\")\n",
    "base = input(\"Convert from (currency): \")\n",
    "curr = input(\"Convert to (currency) \")\n",
    "url=\"https://free.currconv.com/api/v7/convert?q=\"+base+\"_\"+curr+\"&compact=ultra&apiKey=04acf18d892b2bfa45fa\"\n",
    "response=requests.get(url)\n",
    "print(response.json())\n",
    "\n",
    "\n",
    "\n"
   ]
  },
  {
   "cell_type": "code",
   "execution_count": null,
   "id": "a31dbb5e",
   "metadata": {},
   "outputs": [],
   "source": []
  }
 ],
 "metadata": {
  "kernelspec": {
   "display_name": "Python 3 (ipykernel)",
   "language": "python",
   "name": "python3"
  },
  "language_info": {
   "codemirror_mode": {
    "name": "ipython",
    "version": 3
   },
   "file_extension": ".py",
   "mimetype": "text/x-python",
   "name": "python",
   "nbconvert_exporter": "python",
   "pygments_lexer": "ipython3",
   "version": "3.9.7"
  }
 },
 "nbformat": 4,
 "nbformat_minor": 5
}
